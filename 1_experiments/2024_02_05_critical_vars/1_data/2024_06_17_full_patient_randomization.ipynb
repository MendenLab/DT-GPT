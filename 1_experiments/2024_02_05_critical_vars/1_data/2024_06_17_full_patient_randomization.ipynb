{
 "cells": [
  {
   "cell_type": "markdown",
   "metadata": {},
   "source": [
    "# 17.06.2024 - Full patient randomization"
   ]
  },
  {
   "cell_type": "code",
   "execution_count": null,
   "metadata": {},
   "outputs": [],
   "source": [
    "import pandas as pd\n",
    "import numpy as np\n",
    "import json"
   ]
  },
  {
   "cell_type": "code",
   "execution_count": null,
   "metadata": {},
   "outputs": [],
   "source": [
    "constants = pd.read_csv(\"/home/makaron1/dt-gpt/uc2_nsclc/2_experiments/2024_02_05_critical_vars/1_data/constant.csv\")"
   ]
  },
  {
   "cell_type": "code",
   "execution_count": null,
   "metadata": {},
   "outputs": [],
   "source": [
    "np.random.seed(42)\n",
    "\n",
    "# Create 2 further patient subsets\n",
    "for i in range(2):\n",
    "\n",
    "    save_path_base = \"/home/makaron1/dt-gpt/uc2_nsclc/2_experiments/2024_02_05_critical_vars/1_data/patient_subsets/2024_06_17_randomized_\" + str(i + 1)\n",
    "\n",
    "    #: use instead the column dataset_split_id\n",
    "\n",
    "    #: randomly select one dataset_split_id for validation\n",
    "    validation_id = np.random.choice(constants[(constants[\"dataset_split_id\"] != 2)][\"dataset_split_id\"].unique())\n",
    "    validation_ids = constants[constants[\"dataset_split_id\"] == validation_id][\"patientid\"].values\n",
    "\n",
    "    #: randomly select one dataset_split_id for test which is not validation\n",
    "    test_id = np.random.choice(constants[(constants[\"dataset_split_id\"] != validation_id) & (constants[\"dataset_split_id\"] != 1)][\"dataset_split_id\"].unique())\n",
    "    test_ids = constants[constants[\"dataset_split_id\"] == test_id][\"patientid\"].values\n",
    "    \n",
    "    #: select rest as training\n",
    "    training_id = constants[constants[\"dataset_split_id\"] != validation_id]\n",
    "    training_id = training_id[training_id[\"dataset_split_id\"] != test_id]\n",
    "    training_ids = training_id[\"patientid\"].values\n",
    "\n",
    "    print(\"Validation ID: \" + str(validation_id))\n",
    "    print(\"Test ID: \" + str(test_id))\n",
    "    print(\"Training IDs: \" + str(training_id[\"dataset_split_id\"].unique()))\n",
    "\n",
    "    # Assert that no overlap\n",
    "    assert len(set(training_ids).intersection(set(validation_ids))) == 0\n",
    "    assert len(set(training_ids).intersection(set(test_ids))) == 0\n",
    "    assert len(set(validation_ids).intersection(set(test_ids))) == 0\n",
    "\n",
    "    # Save the patient IDs as JSONs of the format { \"patientids\": [ \"F37880F335DEF65E5E83\", ...\n",
    "    with open(save_path_base + \"_training.json\", \"w\") as f:\n",
    "        json.dump({\"patientids\": training_ids.tolist()}, f)\n",
    "    \n",
    "    with open(save_path_base + \"_validation.json\", \"w\") as f:\n",
    "        json.dump({\"patientids\": validation_ids.tolist()}, f)\n",
    "\n",
    "    with open(save_path_base + \"_test.json\", \"w\") as f:\n",
    "        json.dump({\"patientids\": test_ids.tolist()}, f)\n",
    "    \n",
    "\n",
    "    # For debug\n",
    "    print(training_ids[0:10])\n",
    "    print(validation_ids[0:10])\n",
    "    print(test_ids[0:10])\n",
    "\n",
    "    # Print lengths\n",
    "    print(len(training_ids))\n",
    "    print(len(validation_ids))\n",
    "    print(len(test_ids))\n",
    "\n",
    "\n",
    "\n"
   ]
  },
  {
   "cell_type": "code",
   "execution_count": null,
   "metadata": {},
   "outputs": [],
   "source": []
  }
 ],
 "metadata": {
  "kernelspec": {
   "display_name": "uc1_gpu_venv2",
   "language": "python",
   "name": "python3"
  },
  "language_info": {
   "codemirror_mode": {
    "name": "ipython",
    "version": 3
   },
   "file_extension": ".py",
   "mimetype": "text/x-python",
   "name": "python",
   "nbconvert_exporter": "python",
   "pygments_lexer": "ipython3",
   "version": "3.8.8"
  }
 },
 "nbformat": 4,
 "nbformat_minor": 2
}
